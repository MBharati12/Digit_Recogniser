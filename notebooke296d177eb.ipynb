{
 "cells": [
  {
   "cell_type": "code",
   "execution_count": 1,
   "id": "05d6667e",
   "metadata": {
    "execution": {
     "iopub.execute_input": "2022-10-28T15:23:19.041530Z",
     "iopub.status.busy": "2022-10-28T15:23:19.041064Z",
     "iopub.status.idle": "2022-10-28T15:23:19.050035Z",
     "shell.execute_reply": "2022-10-28T15:23:19.049191Z"
    },
    "papermill": {
     "duration": 0.016735,
     "end_time": "2022-10-28T15:23:19.052067",
     "exception": false,
     "start_time": "2022-10-28T15:23:19.035332",
     "status": "completed"
    },
    "tags": []
   },
   "outputs": [],
   "source": [
    "import numpy as np\n",
    "import pandas as pd\n",
    "import matplotlib.pyplot as plt"
   ]
  },
  {
   "cell_type": "code",
   "execution_count": 2,
   "id": "83a172dc",
   "metadata": {
    "execution": {
     "iopub.execute_input": "2022-10-28T15:23:19.060654Z",
     "iopub.status.busy": "2022-10-28T15:23:19.059535Z",
     "iopub.status.idle": "2022-10-28T15:23:21.711561Z",
     "shell.execute_reply": "2022-10-28T15:23:21.710195Z"
    },
    "papermill": {
     "duration": 2.65876,
     "end_time": "2022-10-28T15:23:21.714075",
     "exception": false,
     "start_time": "2022-10-28T15:23:19.055315",
     "status": "completed"
    },
    "tags": []
   },
   "outputs": [],
   "source": [
    "data  = pd.read_csv(\"../input/digit-recognizer/train.csv\")"
   ]
  },
  {
   "cell_type": "code",
   "execution_count": 3,
   "id": "4ce79225",
   "metadata": {
    "execution": {
     "iopub.execute_input": "2022-10-28T15:23:21.721601Z",
     "iopub.status.busy": "2022-10-28T15:23:21.721263Z",
     "iopub.status.idle": "2022-10-28T15:23:21.750554Z",
     "shell.execute_reply": "2022-10-28T15:23:21.749415Z"
    },
    "papermill": {
     "duration": 0.035457,
     "end_time": "2022-10-28T15:23:21.752831",
     "exception": false,
     "start_time": "2022-10-28T15:23:21.717374",
     "status": "completed"
    },
    "tags": []
   },
   "outputs": [
    {
     "data": {
      "text/html": [
       "<div>\n",
       "<style scoped>\n",
       "    .dataframe tbody tr th:only-of-type {\n",
       "        vertical-align: middle;\n",
       "    }\n",
       "\n",
       "    .dataframe tbody tr th {\n",
       "        vertical-align: top;\n",
       "    }\n",
       "\n",
       "    .dataframe thead th {\n",
       "        text-align: right;\n",
       "    }\n",
       "</style>\n",
       "<table border=\"1\" class=\"dataframe\">\n",
       "  <thead>\n",
       "    <tr style=\"text-align: right;\">\n",
       "      <th></th>\n",
       "      <th>label</th>\n",
       "      <th>pixel0</th>\n",
       "      <th>pixel1</th>\n",
       "      <th>pixel2</th>\n",
       "      <th>pixel3</th>\n",
       "      <th>pixel4</th>\n",
       "      <th>pixel5</th>\n",
       "      <th>pixel6</th>\n",
       "      <th>pixel7</th>\n",
       "      <th>pixel8</th>\n",
       "      <th>...</th>\n",
       "      <th>pixel774</th>\n",
       "      <th>pixel775</th>\n",
       "      <th>pixel776</th>\n",
       "      <th>pixel777</th>\n",
       "      <th>pixel778</th>\n",
       "      <th>pixel779</th>\n",
       "      <th>pixel780</th>\n",
       "      <th>pixel781</th>\n",
       "      <th>pixel782</th>\n",
       "      <th>pixel783</th>\n",
       "    </tr>\n",
       "  </thead>\n",
       "  <tbody>\n",
       "    <tr>\n",
       "      <th>0</th>\n",
       "      <td>1</td>\n",
       "      <td>0</td>\n",
       "      <td>0</td>\n",
       "      <td>0</td>\n",
       "      <td>0</td>\n",
       "      <td>0</td>\n",
       "      <td>0</td>\n",
       "      <td>0</td>\n",
       "      <td>0</td>\n",
       "      <td>0</td>\n",
       "      <td>...</td>\n",
       "      <td>0</td>\n",
       "      <td>0</td>\n",
       "      <td>0</td>\n",
       "      <td>0</td>\n",
       "      <td>0</td>\n",
       "      <td>0</td>\n",
       "      <td>0</td>\n",
       "      <td>0</td>\n",
       "      <td>0</td>\n",
       "      <td>0</td>\n",
       "    </tr>\n",
       "    <tr>\n",
       "      <th>1</th>\n",
       "      <td>0</td>\n",
       "      <td>0</td>\n",
       "      <td>0</td>\n",
       "      <td>0</td>\n",
       "      <td>0</td>\n",
       "      <td>0</td>\n",
       "      <td>0</td>\n",
       "      <td>0</td>\n",
       "      <td>0</td>\n",
       "      <td>0</td>\n",
       "      <td>...</td>\n",
       "      <td>0</td>\n",
       "      <td>0</td>\n",
       "      <td>0</td>\n",
       "      <td>0</td>\n",
       "      <td>0</td>\n",
       "      <td>0</td>\n",
       "      <td>0</td>\n",
       "      <td>0</td>\n",
       "      <td>0</td>\n",
       "      <td>0</td>\n",
       "    </tr>\n",
       "    <tr>\n",
       "      <th>2</th>\n",
       "      <td>1</td>\n",
       "      <td>0</td>\n",
       "      <td>0</td>\n",
       "      <td>0</td>\n",
       "      <td>0</td>\n",
       "      <td>0</td>\n",
       "      <td>0</td>\n",
       "      <td>0</td>\n",
       "      <td>0</td>\n",
       "      <td>0</td>\n",
       "      <td>...</td>\n",
       "      <td>0</td>\n",
       "      <td>0</td>\n",
       "      <td>0</td>\n",
       "      <td>0</td>\n",
       "      <td>0</td>\n",
       "      <td>0</td>\n",
       "      <td>0</td>\n",
       "      <td>0</td>\n",
       "      <td>0</td>\n",
       "      <td>0</td>\n",
       "    </tr>\n",
       "    <tr>\n",
       "      <th>3</th>\n",
       "      <td>4</td>\n",
       "      <td>0</td>\n",
       "      <td>0</td>\n",
       "      <td>0</td>\n",
       "      <td>0</td>\n",
       "      <td>0</td>\n",
       "      <td>0</td>\n",
       "      <td>0</td>\n",
       "      <td>0</td>\n",
       "      <td>0</td>\n",
       "      <td>...</td>\n",
       "      <td>0</td>\n",
       "      <td>0</td>\n",
       "      <td>0</td>\n",
       "      <td>0</td>\n",
       "      <td>0</td>\n",
       "      <td>0</td>\n",
       "      <td>0</td>\n",
       "      <td>0</td>\n",
       "      <td>0</td>\n",
       "      <td>0</td>\n",
       "    </tr>\n",
       "    <tr>\n",
       "      <th>4</th>\n",
       "      <td>0</td>\n",
       "      <td>0</td>\n",
       "      <td>0</td>\n",
       "      <td>0</td>\n",
       "      <td>0</td>\n",
       "      <td>0</td>\n",
       "      <td>0</td>\n",
       "      <td>0</td>\n",
       "      <td>0</td>\n",
       "      <td>0</td>\n",
       "      <td>...</td>\n",
       "      <td>0</td>\n",
       "      <td>0</td>\n",
       "      <td>0</td>\n",
       "      <td>0</td>\n",
       "      <td>0</td>\n",
       "      <td>0</td>\n",
       "      <td>0</td>\n",
       "      <td>0</td>\n",
       "      <td>0</td>\n",
       "      <td>0</td>\n",
       "    </tr>\n",
       "  </tbody>\n",
       "</table>\n",
       "<p>5 rows × 785 columns</p>\n",
       "</div>"
      ],
      "text/plain": [
       "   label  pixel0  pixel1  pixel2  pixel3  pixel4  pixel5  pixel6  pixel7  \\\n",
       "0      1       0       0       0       0       0       0       0       0   \n",
       "1      0       0       0       0       0       0       0       0       0   \n",
       "2      1       0       0       0       0       0       0       0       0   \n",
       "3      4       0       0       0       0       0       0       0       0   \n",
       "4      0       0       0       0       0       0       0       0       0   \n",
       "\n",
       "   pixel8  ...  pixel774  pixel775  pixel776  pixel777  pixel778  pixel779  \\\n",
       "0       0  ...         0         0         0         0         0         0   \n",
       "1       0  ...         0         0         0         0         0         0   \n",
       "2       0  ...         0         0         0         0         0         0   \n",
       "3       0  ...         0         0         0         0         0         0   \n",
       "4       0  ...         0         0         0         0         0         0   \n",
       "\n",
       "   pixel780  pixel781  pixel782  pixel783  \n",
       "0         0         0         0         0  \n",
       "1         0         0         0         0  \n",
       "2         0         0         0         0  \n",
       "3         0         0         0         0  \n",
       "4         0         0         0         0  \n",
       "\n",
       "[5 rows x 785 columns]"
      ]
     },
     "execution_count": 3,
     "metadata": {},
     "output_type": "execute_result"
    }
   ],
   "source": [
    "data.head()"
   ]
  },
  {
   "cell_type": "code",
   "execution_count": 4,
   "id": "19191d25",
   "metadata": {
    "execution": {
     "iopub.execute_input": "2022-10-28T15:23:21.761979Z",
     "iopub.status.busy": "2022-10-28T15:23:21.761564Z",
     "iopub.status.idle": "2022-10-28T15:23:22.228412Z",
     "shell.execute_reply": "2022-10-28T15:23:22.227089Z"
    },
    "papermill": {
     "duration": 0.474522,
     "end_time": "2022-10-28T15:23:22.231511",
     "exception": false,
     "start_time": "2022-10-28T15:23:21.756989",
     "status": "completed"
    },
    "tags": []
   },
   "outputs": [],
   "source": [
    "data = np.array(data)\n",
    "m, n = data.shape\n",
    "np.random.shuffle(data)\n",
    "\n",
    "data_dev = data[0:1000].T\n",
    "Y_dev = data[0]\n",
    "X_dev = data[1:n] / 255\n",
    "\n",
    "data_train = data[1000:m].T\n",
    "Y_train = data_train[0]\n",
    "X_train = data_train[1:n] / 255"
   ]
  },
  {
   "cell_type": "code",
   "execution_count": 5,
   "id": "47feb1b4",
   "metadata": {
    "execution": {
     "iopub.execute_input": "2022-10-28T15:23:22.240254Z",
     "iopub.status.busy": "2022-10-28T15:23:22.239882Z",
     "iopub.status.idle": "2022-10-28T15:23:22.252253Z",
     "shell.execute_reply": "2022-10-28T15:23:22.251247Z"
    },
    "papermill": {
     "duration": 0.019505,
     "end_time": "2022-10-28T15:23:22.255053",
     "exception": false,
     "start_time": "2022-10-28T15:23:22.235548",
     "status": "completed"
    },
    "tags": []
   },
   "outputs": [],
   "source": [
    "def init_params():\n",
    "    W1 = np.random.rand(10, 784) - 0.5\n",
    "    b1 = np.random.rand(10, 1) - 0.5\n",
    "    W2 = np.random.rand(10, 10) - 0.5\n",
    "    b2 = np.random.rand(10, 1) - 0.5\n",
    "    \n",
    "    return W1, b1, W2, b2\n",
    "\n",
    "def Relu(Z):\n",
    "    return np.maximum(Z, 0)\n",
    "\n",
    "def softmax(Z):\n",
    "    return np.exp(Z) / sum(np.exp(Z))\n",
    "\n",
    "def forward_prop(W1, b1, W2, b2, X):\n",
    "    Z1 = W1.dot(X) + b1\n",
    "    A1 = Relu(Z1)\n",
    "    Z2 = W2.dot(A1) + b2\n",
    "    A2 = softmax(Z2)\n",
    "    \n",
    "    return Z1, A1, Z2, A2\n",
    "\n",
    "def one_hot(Y):\n",
    "    one_hot_Y = np.zeros((Y.size, Y.max() + 1))\n",
    "    one_hot_Y[np.arange(Y.size), Y] = 1\n",
    "    one_hot_Y = one_hot_Y.T\n",
    "    return one_hot_Y\n",
    "\n",
    "def deriv_Relu(Z):\n",
    "    return Z > 0\n",
    "\n",
    "def back_prop(Z1, A1, Z2, A2, W2, X, Y):\n",
    "    m = Y.size\n",
    "    one_hot_Y = one_hot(Y)\n",
    "    dZ2 = A2 - one_hot_Y\n",
    "    dW2 = 1 / m * dZ2.dot(A1.T)\n",
    "    db2 = 1 / m * np.sum(dZ2)\n",
    "    dZ1 = W2.T.dot(dZ2) * deriv_Relu(Z1)\n",
    "    dW1 = 1 / m * dZ1.dot(X.T)\n",
    "    db1 = 1 / m * np.sum(dZ1)\n",
    "    \n",
    "    return dW1, db1, dW2, db2\n",
    "\n",
    "def update_params(W1, b1, W2, b2, dW1, db1, dW2, db2, alpha):\n",
    "    W1 = W1 - alpha * dW1\n",
    "    b1 = b1 - alpha * db1\n",
    "    W2 = W2 - alpha * dW2\n",
    "    b2 = b2 - alpha * db2\n",
    "    \n",
    "    return W1, b1, W2, b2\n",
    "    "
   ]
  },
  {
   "cell_type": "code",
   "execution_count": 6,
   "id": "33cb4328",
   "metadata": {
    "execution": {
     "iopub.execute_input": "2022-10-28T15:23:22.263713Z",
     "iopub.status.busy": "2022-10-28T15:23:22.263079Z",
     "iopub.status.idle": "2022-10-28T15:23:22.272188Z",
     "shell.execute_reply": "2022-10-28T15:23:22.270799Z"
    },
    "papermill": {
     "duration": 0.016024,
     "end_time": "2022-10-28T15:23:22.274548",
     "exception": false,
     "start_time": "2022-10-28T15:23:22.258524",
     "status": "completed"
    },
    "tags": []
   },
   "outputs": [],
   "source": [
    "def get_predictions(A2):\n",
    "    return np.argmax(A2, 0)\n",
    "\n",
    "def get_accuracy(predictions, Y):\n",
    "    print(predictions, Y)\n",
    "    return np.sum(predictions == Y) / Y.size\n",
    "    \n",
    "\n",
    "def gradient_descent(X, Y, iterations, alpha):\n",
    "    W1, b1, W2, b2 = init_params()\n",
    "    \n",
    "    for i in range(iterations):\n",
    "        Z1, A1, Z2, A2 = forward_prop(W1, b1, W2, b2, X)\n",
    "        dW1, db1, dW2, db2 = back_prop(Z1, A1, Z2, A2, W2, X, Y)\n",
    "        W1, b1, W2, b2 = update_params(W1, b1, W2, b2, dW1, db1, dW2, db2, alpha)\n",
    "        if(i % 10 == 0):\n",
    "            print(\"Iterations: \", i)\n",
    "            print(\"Accuracy: \", get_accuracy(get_predictions(A2), Y))\n",
    "    return W1, b1, W2, b2"
   ]
  },
  {
   "cell_type": "code",
   "execution_count": 7,
   "id": "20084d2e",
   "metadata": {
    "execution": {
     "iopub.execute_input": "2022-10-28T15:23:22.282772Z",
     "iopub.status.busy": "2022-10-28T15:23:22.282401Z",
     "iopub.status.idle": "2022-10-28T15:24:00.021867Z",
     "shell.execute_reply": "2022-10-28T15:24:00.020985Z"
    },
    "papermill": {
     "duration": 37.746262,
     "end_time": "2022-10-28T15:24:00.024395",
     "exception": false,
     "start_time": "2022-10-28T15:23:22.278133",
     "status": "completed"
    },
    "tags": []
   },
   "outputs": [
    {
     "name": "stdout",
     "output_type": "stream",
     "text": [
      "Iterations:  0\n",
      "[6 2 6 ... 2 0 0] [7 0 5 ... 2 2 1]\n",
      "Accuracy:  0.08773170731707317\n",
      "Iterations:  10\n",
      "[7 2 1 ... 2 0 1] [7 0 5 ... 2 2 1]\n",
      "Accuracy:  0.24334146341463414\n",
      "Iterations:  20\n",
      "[7 4 1 ... 2 0 1] [7 0 5 ... 2 2 1]\n",
      "Accuracy:  0.3658780487804878\n",
      "Iterations:  30\n",
      "[7 4 1 ... 2 3 1] [7 0 5 ... 2 2 1]\n",
      "Accuracy:  0.44458536585365854\n",
      "Iterations:  40\n",
      "[7 0 1 ... 2 8 1] [7 0 5 ... 2 2 1]\n",
      "Accuracy:  0.5094390243902439\n",
      "Iterations:  50\n",
      "[7 0 1 ... 2 8 1] [7 0 5 ... 2 2 1]\n",
      "Accuracy:  0.5622926829268293\n",
      "Iterations:  60\n",
      "[7 0 1 ... 2 8 1] [7 0 5 ... 2 2 1]\n",
      "Accuracy:  0.6034146341463414\n",
      "Iterations:  70\n",
      "[7 0 1 ... 2 8 1] [7 0 5 ... 2 2 1]\n",
      "Accuracy:  0.636219512195122\n",
      "Iterations:  80\n",
      "[7 0 8 ... 2 8 1] [7 0 5 ... 2 2 1]\n",
      "Accuracy:  0.6642682926829269\n",
      "Iterations:  90\n",
      "[7 0 8 ... 2 8 1] [7 0 5 ... 2 2 1]\n",
      "Accuracy:  0.6881951219512195\n",
      "Iterations:  100\n",
      "[7 0 8 ... 2 8 1] [7 0 5 ... 2 2 1]\n",
      "Accuracy:  0.7089756097560975\n",
      "Iterations:  110\n",
      "[7 0 8 ... 2 2 1] [7 0 5 ... 2 2 1]\n",
      "Accuracy:  0.725780487804878\n",
      "Iterations:  120\n",
      "[7 0 8 ... 2 2 1] [7 0 5 ... 2 2 1]\n",
      "Accuracy:  0.7408048780487805\n",
      "Iterations:  130\n",
      "[7 0 8 ... 2 2 1] [7 0 5 ... 2 2 1]\n",
      "Accuracy:  0.7528780487804878\n",
      "Iterations:  140\n",
      "[7 0 8 ... 2 2 1] [7 0 5 ... 2 2 1]\n",
      "Accuracy:  0.7634634146341464\n",
      "Iterations:  150\n",
      "[7 0 8 ... 2 2 1] [7 0 5 ... 2 2 1]\n",
      "Accuracy:  0.7729268292682927\n",
      "Iterations:  160\n",
      "[7 0 8 ... 2 2 1] [7 0 5 ... 2 2 1]\n",
      "Accuracy:  0.7821463414634147\n",
      "Iterations:  170\n",
      "[7 0 8 ... 2 2 1] [7 0 5 ... 2 2 1]\n",
      "Accuracy:  0.7895365853658537\n",
      "Iterations:  180\n",
      "[7 0 8 ... 2 2 1] [7 0 5 ... 2 2 1]\n",
      "Accuracy:  0.7960487804878049\n",
      "Iterations:  190\n",
      "[7 0 8 ... 2 2 1] [7 0 5 ... 2 2 1]\n",
      "Accuracy:  0.8015365853658537\n",
      "Iterations:  200\n",
      "[7 0 8 ... 2 2 1] [7 0 5 ... 2 2 1]\n",
      "Accuracy:  0.8064878048780488\n",
      "Iterations:  210\n",
      "[7 0 8 ... 2 2 1] [7 0 5 ... 2 2 1]\n",
      "Accuracy:  0.8107804878048781\n",
      "Iterations:  220\n",
      "[7 0 8 ... 2 2 1] [7 0 5 ... 2 2 1]\n",
      "Accuracy:  0.8150487804878048\n",
      "Iterations:  230\n",
      "[7 0 8 ... 2 2 1] [7 0 5 ... 2 2 1]\n",
      "Accuracy:  0.8189756097560975\n",
      "Iterations:  240\n",
      "[7 0 8 ... 2 2 1] [7 0 5 ... 2 2 1]\n",
      "Accuracy:  0.822780487804878\n",
      "Iterations:  250\n",
      "[7 0 8 ... 2 2 1] [7 0 5 ... 2 2 1]\n",
      "Accuracy:  0.8256585365853658\n",
      "Iterations:  260\n",
      "[7 0 8 ... 2 2 1] [7 0 5 ... 2 2 1]\n",
      "Accuracy:  0.8283414634146341\n",
      "Iterations:  270\n",
      "[7 0 8 ... 2 2 1] [7 0 5 ... 2 2 1]\n",
      "Accuracy:  0.8312682926829268\n",
      "Iterations:  280\n",
      "[7 0 8 ... 2 2 1] [7 0 5 ... 2 2 1]\n",
      "Accuracy:  0.8336097560975609\n",
      "Iterations:  290\n",
      "[7 0 8 ... 2 2 1] [7 0 5 ... 2 2 1]\n",
      "Accuracy:  0.835780487804878\n",
      "Iterations:  300\n",
      "[7 0 8 ... 2 2 1] [7 0 5 ... 2 2 1]\n",
      "Accuracy:  0.8380731707317073\n",
      "Iterations:  310\n",
      "[7 0 8 ... 2 2 1] [7 0 5 ... 2 2 1]\n",
      "Accuracy:  0.840170731707317\n",
      "Iterations:  320\n",
      "[7 0 8 ... 2 2 1] [7 0 5 ... 2 2 1]\n",
      "Accuracy:  0.8419268292682927\n",
      "Iterations:  330\n",
      "[7 0 8 ... 2 2 1] [7 0 5 ... 2 2 1]\n",
      "Accuracy:  0.8436829268292683\n",
      "Iterations:  340\n",
      "[7 0 8 ... 2 2 1] [7 0 5 ... 2 2 1]\n",
      "Accuracy:  0.8457073170731707\n",
      "Iterations:  350\n",
      "[7 0 5 ... 2 2 1] [7 0 5 ... 2 2 1]\n",
      "Accuracy:  0.8472439024390244\n",
      "Iterations:  360\n",
      "[7 0 5 ... 2 2 1] [7 0 5 ... 2 2 1]\n",
      "Accuracy:  0.8489024390243902\n",
      "Iterations:  370\n",
      "[7 0 5 ... 2 2 1] [7 0 5 ... 2 2 1]\n",
      "Accuracy:  0.8501219512195122\n",
      "Iterations:  380\n",
      "[7 0 5 ... 2 2 1] [7 0 5 ... 2 2 1]\n",
      "Accuracy:  0.8514878048780488\n",
      "Iterations:  390\n",
      "[7 0 5 ... 2 2 1] [7 0 5 ... 2 2 1]\n",
      "Accuracy:  0.8526585365853658\n",
      "Iterations:  400\n",
      "[7 0 5 ... 2 2 1] [7 0 5 ... 2 2 1]\n",
      "Accuracy:  0.8538780487804878\n",
      "Iterations:  410\n",
      "[7 0 5 ... 2 2 1] [7 0 5 ... 2 2 1]\n",
      "Accuracy:  0.8547560975609756\n",
      "Iterations:  420\n",
      "[7 0 5 ... 2 2 1] [7 0 5 ... 2 2 1]\n",
      "Accuracy:  0.8558536585365853\n",
      "Iterations:  430\n",
      "[7 0 5 ... 2 2 1] [7 0 5 ... 2 2 1]\n",
      "Accuracy:  0.8570487804878049\n",
      "Iterations:  440\n",
      "[7 0 5 ... 2 2 1] [7 0 5 ... 2 2 1]\n",
      "Accuracy:  0.8580731707317073\n",
      "Iterations:  450\n",
      "[7 0 5 ... 2 2 1] [7 0 5 ... 2 2 1]\n",
      "Accuracy:  0.8587073170731707\n",
      "Iterations:  460\n",
      "[7 0 5 ... 2 2 1] [7 0 5 ... 2 2 1]\n",
      "Accuracy:  0.8595365853658536\n",
      "Iterations:  470\n",
      "[7 0 5 ... 2 2 1] [7 0 5 ... 2 2 1]\n",
      "Accuracy:  0.8607560975609756\n",
      "Iterations:  480\n",
      "[7 0 5 ... 2 2 1] [7 0 5 ... 2 2 1]\n",
      "Accuracy:  0.8619268292682927\n",
      "Iterations:  490\n",
      "[7 0 5 ... 2 2 1] [7 0 5 ... 2 2 1]\n",
      "Accuracy:  0.8629268292682927\n"
     ]
    }
   ],
   "source": [
    "W1, b1, W2, b2 = gradient_descent(X_train, Y_train, 500, 0.1)"
   ]
  },
  {
   "cell_type": "code",
   "execution_count": 8,
   "id": "0b08460a",
   "metadata": {
    "execution": {
     "iopub.execute_input": "2022-10-28T15:24:00.042816Z",
     "iopub.status.busy": "2022-10-28T15:24:00.041636Z",
     "iopub.status.idle": "2022-10-28T15:24:00.047378Z",
     "shell.execute_reply": "2022-10-28T15:24:00.046595Z"
    },
    "papermill": {
     "duration": 0.019242,
     "end_time": "2022-10-28T15:24:00.051296",
     "exception": false,
     "start_time": "2022-10-28T15:24:00.032054",
     "status": "completed"
    },
    "tags": []
   },
   "outputs": [],
   "source": [
    "def make_predictions(X, W1, b1, W2, b2):\n",
    "    _, _, _, A2 = forward_prop(W1, b1, W2, b2, X)\n",
    "    predictions = get_predictions(A2)\n",
    "    return predictions"
   ]
  },
  {
   "cell_type": "code",
   "execution_count": 9,
   "id": "078191dd",
   "metadata": {
    "execution": {
     "iopub.execute_input": "2022-10-28T15:24:00.069780Z",
     "iopub.status.busy": "2022-10-28T15:24:00.068445Z",
     "iopub.status.idle": "2022-10-28T15:24:00.077371Z",
     "shell.execute_reply": "2022-10-28T15:24:00.076269Z"
    },
    "papermill": {
     "duration": 0.02053,
     "end_time": "2022-10-28T15:24:00.079746",
     "exception": false,
     "start_time": "2022-10-28T15:24:00.059216",
     "status": "completed"
    },
    "tags": []
   },
   "outputs": [],
   "source": [
    "def test_prediction(index, W1, b1, W2, b2):\n",
    "    current_image = X_train[:, index, None]\n",
    "    prediction = make_predictions(X_train[:, index, None], W1, b1, W2, b2)\n",
    "    label = Y_train[index]\n",
    "    print(\"Prediction: \", prediction)\n",
    "    print(\"Label: \", label)\n",
    "    \n",
    "    current_image = current_image.reshape((28, 28)) * 255\n",
    "    plt.gray()\n",
    "    plt.imshow(current_image, interpolation='nearest')\n",
    "    plt.show()"
   ]
  },
  {
   "cell_type": "code",
   "execution_count": 10,
   "id": "61fe73ec",
   "metadata": {
    "execution": {
     "iopub.execute_input": "2022-10-28T15:24:00.096632Z",
     "iopub.status.busy": "2022-10-28T15:24:00.095762Z",
     "iopub.status.idle": "2022-10-28T15:24:00.370224Z",
     "shell.execute_reply": "2022-10-28T15:24:00.369104Z"
    },
    "papermill": {
     "duration": 0.285429,
     "end_time": "2022-10-28T15:24:00.373103",
     "exception": false,
     "start_time": "2022-10-28T15:24:00.087674",
     "status": "completed"
    },
    "tags": []
   },
   "outputs": [
    {
     "name": "stdout",
     "output_type": "stream",
     "text": [
      "Prediction:  [7]\n",
      "Label:  7\n"
     ]
    },
    {
     "data": {
      "image/png": "[encoded data removed]",
      "text/plain": [
       "<Figure size 432x288 with 1 Axes>"
      ]
     },
     "metadata": {
      "needs_background": "light"
     },
     "output_type": "display_data"
    },
    {
     "name": "stdout",
     "output_type": "stream",
     "text": [
      "Prediction:  [1]\n",
      "Label:  1\n"
     ]
    },
    {
     "data": {
      "image/png": "[encoded data removed]",
      "text/plain": [
       "<Figure size 432x288 with 1 Axes>"
      ]
     },
     "metadata": {
      "needs_background": "light"
     },
     "output_type": "display_data"
    }
   ],
   "source": [
    "test_prediction(0, W1, b1, W2, b2)\n",
    "test_prediction(4, W1, b1, W2, b2)"
   ]
  }
 ],
 "metadata": {
  "kernelspec": {
   "display_name": "Python 3",
   "language": "python",
   "name": "python3"
  },
  "language_info": {
   "codemirror_mode": {
    "name": "ipython",
    "version": 3
   },
   "file_extension": ".py",
   "mimetype": "text/x-python",
   "name": "python",
   "nbconvert_exporter": "python",
   "pygments_lexer": "ipython3",
   "version": "3.7.12"
  },
  "papermill": {
   "default_parameters": {},
   "duration": 49.324834,
   "end_time": "2022-10-28T15:24:01.105201",
   "environment_variables": {},
   "exception": null,
   "input_path": "__notebook__.ipynb",
   "output_path": "__notebook__.ipynb",
   "parameters": {},
   "start_time": "2022-10-28T15:23:11.780367",
   "version": "2.3.4"
  }
 },
 "nbformat": 4,
 "nbformat_minor": 5
}
